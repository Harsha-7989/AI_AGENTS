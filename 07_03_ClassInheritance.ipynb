{
  "cells": [
    {
      "cell_type": "markdown",
      "metadata": {
        "id": "view-in-github",
        "colab_type": "text"
      },
      "source": [
        "<a href=\"https://colab.research.google.com/github/Harsha-7989/AI_AGENTS/blob/main/07_03_ClassInheritance.ipynb\" target=\"_parent\"><img src=\"https://colab.research.google.com/assets/colab-badge.svg\" alt=\"Open In Colab\"/></a>"
      ]
    },
    {
      "cell_type": "markdown",
      "id": "3ca28428",
      "metadata": {
        "id": "3ca28428"
      },
      "source": [
        "## Class Inheritance"
      ]
    },
    {
      "cell_type": "code",
      "execution_count": 1,
      "id": "06ce42b1",
      "metadata": {
        "id": "06ce42b1"
      },
      "outputs": [],
      "source": [
        "class Dog:\n",
        "    _legs = 4\n",
        "    def __init__(self, name):\n",
        "        self.name = name\n",
        "\n",
        "    def speak(self):\n",
        "        print(self.name + ' says: Bark!')\n",
        "\n",
        "    def getLegs(self):\n",
        "        return self._legs\n",
        "\n",
        "\n",
        "class Chihuahua(Dog):\n",
        "    def speak(self):\n",
        "        print(f'{self.name} says: Yap yap yap!')\n",
        "\n",
        "    def wagTail(self):\n",
        "        print('Vigorous wagging!')\n"
      ]
    },
    {
      "cell_type": "code",
      "execution_count": 2,
      "id": "dd5dd985",
      "metadata": {
        "colab": {
          "base_uri": "https://localhost:8080/"
        },
        "id": "dd5dd985",
        "outputId": "13de4d2b-edeb-494c-b879-7ccfc070bcd5"
      },
      "outputs": [
        {
          "output_type": "stream",
          "name": "stdout",
          "text": [
            "Roxy says: Yap yap yap!\n",
            "Vigorous wagging!\n"
          ]
        }
      ],
      "source": [
        "dog = Chihuahua('Roxy')\n",
        "dog.speak()\n",
        "dog.wagTail()"
      ]
    },
    {
      "cell_type": "code",
      "execution_count": 3,
      "id": "9f367505",
      "metadata": {
        "colab": {
          "base_uri": "https://localhost:8080/"
        },
        "id": "9f367505",
        "outputId": "6dc8f3bc-c15b-4740-b279-45010c8dae05"
      },
      "outputs": [
        {
          "output_type": "stream",
          "name": "stdout",
          "text": [
            "Rover says: Bark!\n"
          ]
        }
      ],
      "source": [
        "myDog = Dog('Rover')\n",
        "myDog.speak()"
      ]
    },
    {
      "cell_type": "markdown",
      "id": "fb776450",
      "metadata": {
        "id": "fb776450"
      },
      "source": [
        "### Extending built-in classes"
      ]
    },
    {
      "cell_type": "code",
      "execution_count": 4,
      "id": "352c540a",
      "metadata": {
        "id": "352c540a"
      },
      "outputs": [],
      "source": [
        "myList = list()"
      ]
    },
    {
      "cell_type": "code",
      "execution_count": 5,
      "id": "fcf877f7",
      "metadata": {
        "colab": {
          "base_uri": "https://localhost:8080/"
        },
        "id": "fcf877f7",
        "outputId": "de4febfc-174a-4f12-f3e1-817a704227fa"
      },
      "outputs": [
        {
          "output_type": "stream",
          "name": "stdout",
          "text": [
            "[1, 2]\n"
          ]
        }
      ],
      "source": [
        "class UniqueList(list):\n",
        "    def append(self, item):\n",
        "        if item in self:\n",
        "            return\n",
        "        super().append(item)\n",
        "\n",
        "uniqueList = UniqueList()\n",
        "uniqueList.append(1)\n",
        "uniqueList.append(1)\n",
        "uniqueList.append(2)\n",
        "\n",
        "print(uniqueList)"
      ]
    },
    {
      "cell_type": "code",
      "execution_count": 9,
      "id": "e6ec6f25",
      "metadata": {
        "colab": {
          "base_uri": "https://localhost:8080/"
        },
        "id": "e6ec6f25",
        "outputId": "d1b7a386-f8e7-405f-9f74-380693d14370"
      },
      "outputs": [
        {
          "output_type": "stream",
          "name": "stdout",
          "text": [
            "Unique List!\n",
            "2\n"
          ]
        }
      ],
      "source": [
        "class UniqueList(list):\n",
        "\n",
        "    def __init__(self):\n",
        "        super().__init__()\n",
        "        self.someProperty = 'Unique List!'\n",
        "\n",
        "\n",
        "    def append(self, item):\n",
        "        if item in self:\n",
        "            return\n",
        "        super().append(item)\n",
        "\n",
        "uniqueList = UniqueList()\n",
        "uniqueList.append(1)\n",
        "uniqueList.append(1)\n",
        "uniqueList.append(2)\n",
        "\n",
        "print(uniqueList.someProperty)\n",
        "print(uniqueList[1])"
      ]
    },
    {
      "cell_type": "code",
      "execution_count": null,
      "id": "6ea4c632",
      "metadata": {
        "id": "6ea4c632"
      },
      "outputs": [],
      "source": []
    }
  ],
  "metadata": {
    "kernelspec": {
      "display_name": "Python 3 (ipykernel)",
      "language": "python",
      "name": "python3"
    },
    "language_info": {
      "codemirror_mode": {
        "name": "ipython",
        "version": 3
      },
      "file_extension": ".py",
      "mimetype": "text/x-python",
      "name": "python",
      "nbconvert_exporter": "python",
      "pygments_lexer": "ipython3",
      "version": "3.9.13"
    },
    "colab": {
      "provenance": [],
      "include_colab_link": true
    }
  },
  "nbformat": 4,
  "nbformat_minor": 5
}